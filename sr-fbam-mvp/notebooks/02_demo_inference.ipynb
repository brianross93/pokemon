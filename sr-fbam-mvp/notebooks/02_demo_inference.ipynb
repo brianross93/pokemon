{
 "cells": [
  {
   "cell_type": "markdown",
   "metadata": {},
   "source": [
    "# SR-FBAM Inference Demo\n",
    "\n",
    "This notebook loads a trained SR-FBAM checkpoint, runs it on example queries, and visualises the reasoning hops. Make sure you have already trained the model and saved a checkpoint in `../checkpoints/`."
   ]
  },
  {
   "cell_type": "code",
   "execution_count": null,
   "metadata": {},
   "outputs": [],
   "source": [
    "from pathlib import Path\n",
    "import sys\n",
    "\n",
    "# Allow notebook to import project modules\n",
    "PROJECT_ROOT = Path.cwd().parent\n",
    "if str(PROJECT_ROOT) not in sys.path:\n",
    "    sys.path.append(str(PROJECT_ROOT))\n",
    "\n",
    "from src.data import load_dataset\n",
    "from src.training.train import load_checkpoint\n",
    "\n",
    "CHECKPOINT_PATH = PROJECT_ROOT / \"checkpoints\" / \"sr_fbam_train_best.pt\"\n",
    "DATA_DIR = PROJECT_ROOT / \"data\"\n",
    "\n",
    "model = load_checkpoint(CHECKPOINT_PATH, device=\"cpu\")\n",
    "kg, queries = load_dataset(DATA_DIR, split=\"eval\")\n",
    "print(f\"Loaded {len(queries)} evaluation queries\")"
   ]
  },
  {
   "cell_type": "code",
   "execution_count": null,
   "metadata": {},
   "outputs": [],
   "source": [
    "query = queries[0]\n",
    "output = model.reason(query, kg)\n",
    "\n",
    "print(f\"Query: {query.natural_language}\")\n",
    "print(f\"Ground truth: {query.answer_id}\\n\")\n",
    "\n",
    "for hop in output.hop_traces:\n",
    "    print(f\"[{hop.hop_number}] {hop.action:6s} -> {hop.result} (confidence={hop.confidence:.2f})\")\n",
    "\n",
    "print(f\"\\nPrediction: {output.prediction_id}\")\n",
    "print(f\"Correct: {output.prediction_id == query.answer_id}\")\n",
    "print(f\"Hops: {len(output.hop_traces)}\")"
   ]
  },
  {
    "cell_type": "code",
    "execution_count": null,
    "metadata": {},
    "outputs": [],
    "source": [
      "import networkx as nx\n",
      "import matplotlib.pyplot as plt\n",
      "\n",
      "G = nx.DiGraph()\n",
      "for hop in output.hop_traces:\n",
      "    G.add_node(hop.hop_number, action=hop.action, label=f\"{hop.hop_number}: {hop.action}\")\n",
      "    if hop.hop_number > 1:\n",
      "        G.add_edge(hop.hop_number - 1, hop.hop_number)\n",
      "\n",
      "pos = nx.spring_layout(G, seed=42)\n",
      "labels = nx.get_node_attributes(G, \"label\")\n",
      "plt.figure(figsize=(6, 4))\n",
      "nx.draw(G, pos, labels=labels, with_labels=True, node_color=\"#8ecae6\", node_size=1200, font_size=10)\n",
      "plt.title(\"Reasoning Hop Graph\")\n",
      "plt.show()"
    ]
  }
 ],
 "metadata": {
  "kernelspec": {
   "display_name": "Python 3",
   "language": "python",
   "name": "python3"
  },
  "language_info": {
   "name": "python",
   "version": ""
  }
 },
 "nbformat": 4,
 "nbformat_minor": 5
}
